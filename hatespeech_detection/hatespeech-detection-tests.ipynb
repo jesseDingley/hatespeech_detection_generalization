{
 "cells": [
  {
   "cell_type": "markdown",
   "id": "indonesian-falls",
   "metadata": {
    "papermill": {
     "duration": 0.018621,
     "end_time": "2021-05-22T11:07:26.075274",
     "exception": false,
     "start_time": "2021-05-22T11:07:26.056653",
     "status": "completed"
    },
    "tags": []
   },
   "source": [
    "# Hate Speech Detection - Part III: Testing multiple Datasets\n",
    "\n",
    "In this notebook we use the general hatespeech model we trained in the previous notebook [(here)](https://www.kaggle.com/jessedingley/hatespeech-detection-model#Results) that predicts if a tweet conveys hate speech or not. With this general model we calculate various metrics (accuracy, F1, precision, recall, Matthews' Correlation Coefficient (MCC)) on three test sets:\n",
    "   - general hatespeech test set\n",
    "   - racism test set\n",
    "   - sexism test set\n",
    "   \n",
    "Although not done in this notebook, we then compare these metrics against the metrics calculated with the racism and sexism models."
   ]
  },
  {
   "cell_type": "markdown",
   "id": "driven-decision",
   "metadata": {
    "papermill": {
     "duration": 0.017051,
     "end_time": "2021-05-22T11:07:26.109618",
     "exception": false,
     "start_time": "2021-05-22T11:07:26.092567",
     "status": "completed"
    },
    "tags": []
   },
   "source": [
    "# 0. Setup"
   ]
  },
  {
   "cell_type": "markdown",
   "id": "fifty-guide",
   "metadata": {
    "papermill": {
     "duration": 0.017262,
     "end_time": "2021-05-22T11:07:26.144264",
     "exception": false,
     "start_time": "2021-05-22T11:07:26.127002",
     "status": "completed"
    },
    "tags": []
   },
   "source": [
    "### Imports"
   ]
  },
  {
   "cell_type": "code",
   "execution_count": 1,
   "id": "still-updating",
   "metadata": {
    "execution": {
     "iopub.execute_input": "2021-05-22T11:07:26.185434Z",
     "iopub.status.busy": "2021-05-22T11:07:26.183373Z",
     "iopub.status.idle": "2021-05-22T11:07:29.525266Z",
     "shell.execute_reply": "2021-05-22T11:07:29.524492Z",
     "shell.execute_reply.started": "2021-05-22T10:58:41.283131Z"
    },
    "papermill": {
     "duration": 3.363652,
     "end_time": "2021-05-22T11:07:29.525499",
     "exception": false,
     "start_time": "2021-05-22T11:07:26.161847",
     "status": "completed"
    },
    "tags": []
   },
   "outputs": [],
   "source": [
    "# for gpu use, tensors etc...\n",
    "import torch\n",
    "\n",
    "# import tokenizer, model for sequence classification, trainer and training arguments\n",
    "from transformers import AutoModelForSequenceClassification, AutoTokenizer\n",
    "\n",
    "# for opening csv\n",
    "import csv\n",
    "\n",
    "# for computing metrics\n",
    "from sklearn.metrics import accuracy_score, precision_recall_fscore_support, matthews_corrcoef"
   ]
  },
  {
   "cell_type": "markdown",
   "id": "irish-market",
   "metadata": {
    "papermill": {
     "duration": 0.017481,
     "end_time": "2021-05-22T11:07:29.560826",
     "exception": false,
     "start_time": "2021-05-22T11:07:29.543345",
     "status": "completed"
    },
    "tags": []
   },
   "source": [
    "### Model and Tokenizer setup\n",
    "\n",
    "We're using the `cardiffnlp/twitter-roberta-base` model with a hate speech classifier head.\n"
   ]
  },
  {
   "cell_type": "code",
   "execution_count": 2,
   "id": "intended-climate",
   "metadata": {
    "execution": {
     "iopub.execute_input": "2021-05-22T11:07:29.601309Z",
     "iopub.status.busy": "2021-05-22T11:07:29.600634Z",
     "iopub.status.idle": "2021-05-22T11:07:36.617973Z",
     "shell.execute_reply": "2021-05-22T11:07:36.616840Z",
     "shell.execute_reply.started": "2021-05-22T10:58:42.315911Z"
    },
    "papermill": {
     "duration": 7.03965,
     "end_time": "2021-05-22T11:07:36.618150",
     "exception": false,
     "start_time": "2021-05-22T11:07:29.578500",
     "status": "completed"
    },
    "tags": []
   },
   "outputs": [],
   "source": [
    "MODEL_NAME = \"../input/hatespeech-detection-model/hatespeech_model-distilbert-base-uncased\"\n",
    "\n",
    "# define model and tokenizer\n",
    "model = AutoModelForSequenceClassification.from_pretrained(MODEL_NAME, num_labels=2)\n",
    "tokenizer = AutoTokenizer.from_pretrained(MODEL_NAME, padding_side = \"right\")"
   ]
  },
  {
   "cell_type": "markdown",
   "id": "honest-cooperative",
   "metadata": {
    "papermill": {
     "duration": 0.017491,
     "end_time": "2021-05-22T11:07:36.654517",
     "exception": false,
     "start_time": "2021-05-22T11:07:36.637026",
     "status": "completed"
    },
    "tags": []
   },
   "source": [
    "### GPU"
   ]
  },
  {
   "cell_type": "code",
   "execution_count": 3,
   "id": "stunning-directory",
   "metadata": {
    "execution": {
     "iopub.execute_input": "2021-05-22T11:07:36.747706Z",
     "iopub.status.busy": "2021-05-22T11:07:36.746507Z",
     "iopub.status.idle": "2021-05-22T11:07:36.751145Z",
     "shell.execute_reply": "2021-05-22T11:07:36.750614Z",
     "shell.execute_reply.started": "2021-05-22T10:58:44.251108Z"
    },
    "papermill": {
     "duration": 0.079485,
     "end_time": "2021-05-22T11:07:36.751284",
     "exception": false,
     "start_time": "2021-05-22T11:07:36.671799",
     "status": "completed"
    },
    "tags": []
   },
   "outputs": [],
   "source": [
    "device = torch.device(\"cuda\" if torch.cuda.is_available() else \"cpu\")"
   ]
  },
  {
   "cell_type": "markdown",
   "id": "exposed-testament",
   "metadata": {
    "papermill": {
     "duration": 0.017176,
     "end_time": "2021-05-22T11:07:36.786118",
     "exception": false,
     "start_time": "2021-05-22T11:07:36.768942",
     "status": "completed"
    },
    "tags": []
   },
   "source": [
    "# 1. Data"
   ]
  },
  {
   "cell_type": "markdown",
   "id": "mature-renewal",
   "metadata": {
    "papermill": {
     "duration": 0.017309,
     "end_time": "2021-05-22T11:07:36.821414",
     "exception": false,
     "start_time": "2021-05-22T11:07:36.804105",
     "status": "completed"
    },
    "tags": []
   },
   "source": [
    "### Retrieve Test Data\n",
    "We also need to specify what data we want (hate / racism / sexism)"
   ]
  },
  {
   "cell_type": "code",
   "execution_count": 4,
   "id": "british-france",
   "metadata": {
    "execution": {
     "iopub.execute_input": "2021-05-22T11:07:36.861419Z",
     "iopub.status.busy": "2021-05-22T11:07:36.860760Z",
     "iopub.status.idle": "2021-05-22T11:07:36.865267Z",
     "shell.execute_reply": "2021-05-22T11:07:36.865783Z",
     "shell.execute_reply.started": "2021-05-22T10:58:44.321111Z"
    },
    "papermill": {
     "duration": 0.026806,
     "end_time": "2021-05-22T11:07:36.865969",
     "exception": false,
     "start_time": "2021-05-22T11:07:36.839163",
     "status": "completed"
    },
    "tags": []
   },
   "outputs": [],
   "source": [
    "DATA = \"hate\" # (\"hate\" / \"racism\" / \"sexism\")"
   ]
  },
  {
   "cell_type": "code",
   "execution_count": 5,
   "id": "silver-enough",
   "metadata": {
    "execution": {
     "iopub.execute_input": "2021-05-22T11:07:36.905576Z",
     "iopub.status.busy": "2021-05-22T11:07:36.904848Z",
     "iopub.status.idle": "2021-05-22T11:07:36.909474Z",
     "shell.execute_reply": "2021-05-22T11:07:36.910054Z",
     "shell.execute_reply.started": "2021-05-22T10:58:44.328315Z"
    },
    "papermill": {
     "duration": 0.026843,
     "end_time": "2021-05-22T11:07:36.910202",
     "exception": false,
     "start_time": "2021-05-22T11:07:36.883359",
     "status": "completed"
    },
    "tags": []
   },
   "outputs": [],
   "source": [
    "test_sets = {\"hate\": \"../input/hatespeech-detection-data-bertweet/hatespeech_test.csv\",\n",
    "             \"train\": \"../input/hatespeech-detection-data-bertweet/hatespeech_train.csv\",\n",
    "             \"racism\": \"../input/racismdata/racism_test.csv\",\n",
    "             \"sexism\" : \"../input/sexismdata/sexism_test.csv\"}"
   ]
  },
  {
   "cell_type": "code",
   "execution_count": 6,
   "id": "elegant-adaptation",
   "metadata": {
    "execution": {
     "iopub.execute_input": "2021-05-22T11:07:36.950325Z",
     "iopub.status.busy": "2021-05-22T11:07:36.949633Z",
     "iopub.status.idle": "2021-05-22T11:07:37.131020Z",
     "shell.execute_reply": "2021-05-22T11:07:37.130297Z",
     "shell.execute_reply.started": "2021-05-22T10:58:44.336937Z"
    },
    "papermill": {
     "duration": 0.203733,
     "end_time": "2021-05-22T11:07:37.131164",
     "exception": false,
     "start_time": "2021-05-22T11:07:36.927431",
     "status": "completed"
    },
    "tags": []
   },
   "outputs": [],
   "source": [
    "# open test data\n",
    "unformatted_test_data = {}\n",
    "for data_type, filename in test_sets.items(): \n",
    "    with open(filename, \"r\", encoding=\"utf8\") as f:\n",
    "        unformatted_test_data[data_type] = [{k: v for k, v in row.items()} for row in csv.DictReader(f, skipinitialspace=True)] "
   ]
  },
  {
   "cell_type": "code",
   "execution_count": 7,
   "id": "suburban-monday",
   "metadata": {
    "execution": {
     "iopub.execute_input": "2021-05-22T11:07:37.183032Z",
     "iopub.status.busy": "2021-05-22T11:07:37.180803Z",
     "iopub.status.idle": "2021-05-22T11:07:37.183922Z",
     "shell.execute_reply": "2021-05-22T11:07:37.184530Z",
     "shell.execute_reply.started": "2021-05-22T10:58:44.500412Z"
    },
    "papermill": {
     "duration": 0.035249,
     "end_time": "2021-05-22T11:07:37.184677",
     "exception": false,
     "start_time": "2021-05-22T11:07:37.149428",
     "status": "completed"
    },
    "tags": []
   },
   "outputs": [],
   "source": [
    "test_data = {}\n",
    "for data_type, data in unformatted_test_data.items():\n",
    "    instances = []\n",
    "    for row in unformatted_test_data[data_type]:\n",
    "        if data_type == \"racism\":\n",
    "            instances.append({\"tweet\": row[\"Text\"], \"label\": row[\"oh_label\"]})\n",
    "        elif data_type == \"sexism\":\n",
    "            instances.append({\"tweet\": row[\"text\"], \"label\": row[\"label\"]})\n",
    "        elif data_type == \"hate\" or data_type == \"train\":\n",
    "            instances.append(row)\n",
    "        else:\n",
    "            raise Exception(f\"Data {data_type} not valid\")\n",
    "    test_data[data_type] = instances "
   ]
  },
  {
   "cell_type": "markdown",
   "id": "listed-honolulu",
   "metadata": {
    "papermill": {
     "duration": 0.017374,
     "end_time": "2021-05-22T11:07:37.219279",
     "exception": false,
     "start_time": "2021-05-22T11:07:37.201905",
     "status": "completed"
    },
    "tags": []
   },
   "source": [
    "### Split into labels and tweets"
   ]
  },
  {
   "cell_type": "code",
   "execution_count": 8,
   "id": "curious-intellectual",
   "metadata": {
    "execution": {
     "iopub.execute_input": "2021-05-22T11:07:37.268323Z",
     "iopub.status.busy": "2021-05-22T11:07:37.266281Z",
     "iopub.status.idle": "2021-05-22T11:07:37.269503Z",
     "shell.execute_reply": "2021-05-22T11:07:37.270081Z",
     "shell.execute_reply.started": "2021-05-22T10:58:44.515029Z"
    },
    "papermill": {
     "duration": 0.033242,
     "end_time": "2021-05-22T11:07:37.270233",
     "exception": false,
     "start_time": "2021-05-22T11:07:37.236991",
     "status": "completed"
    },
    "tags": []
   },
   "outputs": [],
   "source": [
    "test_data_tweets = {}\n",
    "test_data_labels = {}\n",
    "for data_type, data in test_data.items():\n",
    "    test_data_tweets[data_type] = [row[\"tweet\"] for row in data]\n",
    "    test_data_labels[data_type] = [int(row[\"label\"]) for row in data]"
   ]
  },
  {
   "cell_type": "markdown",
   "id": "dangerous-capitol",
   "metadata": {
    "papermill": {
     "duration": 0.017495,
     "end_time": "2021-05-22T11:07:37.305269",
     "exception": false,
     "start_time": "2021-05-22T11:07:37.287774",
     "status": "completed"
    },
    "tags": []
   },
   "source": [
    "# 2. Testing"
   ]
  },
  {
   "cell_type": "code",
   "execution_count": 9,
   "id": "shaped-flash",
   "metadata": {
    "execution": {
     "iopub.execute_input": "2021-05-22T11:07:37.350557Z",
     "iopub.status.busy": "2021-05-22T11:07:37.349838Z",
     "iopub.status.idle": "2021-05-22T11:07:42.603755Z",
     "shell.execute_reply": "2021-05-22T11:07:42.604360Z",
     "shell.execute_reply.started": "2021-05-22T10:58:44.529993Z"
    },
    "papermill": {
     "duration": 5.281562,
     "end_time": "2021-05-22T11:07:42.604635",
     "exception": false,
     "start_time": "2021-05-22T11:07:37.323073",
     "status": "completed"
    },
    "tags": []
   },
   "outputs": [
    {
     "data": {
      "text/plain": [
       "DistilBertForSequenceClassification(\n",
       "  (distilbert): DistilBertModel(\n",
       "    (embeddings): Embeddings(\n",
       "      (word_embeddings): Embedding(30522, 768, padding_idx=0)\n",
       "      (position_embeddings): Embedding(512, 768)\n",
       "      (LayerNorm): LayerNorm((768,), eps=1e-12, elementwise_affine=True)\n",
       "      (dropout): Dropout(p=0.1, inplace=False)\n",
       "    )\n",
       "    (transformer): Transformer(\n",
       "      (layer): ModuleList(\n",
       "        (0): TransformerBlock(\n",
       "          (attention): MultiHeadSelfAttention(\n",
       "            (dropout): Dropout(p=0.1, inplace=False)\n",
       "            (q_lin): Linear(in_features=768, out_features=768, bias=True)\n",
       "            (k_lin): Linear(in_features=768, out_features=768, bias=True)\n",
       "            (v_lin): Linear(in_features=768, out_features=768, bias=True)\n",
       "            (out_lin): Linear(in_features=768, out_features=768, bias=True)\n",
       "          )\n",
       "          (sa_layer_norm): LayerNorm((768,), eps=1e-12, elementwise_affine=True)\n",
       "          (ffn): FFN(\n",
       "            (dropout): Dropout(p=0.1, inplace=False)\n",
       "            (lin1): Linear(in_features=768, out_features=3072, bias=True)\n",
       "            (lin2): Linear(in_features=3072, out_features=768, bias=True)\n",
       "          )\n",
       "          (output_layer_norm): LayerNorm((768,), eps=1e-12, elementwise_affine=True)\n",
       "        )\n",
       "        (1): TransformerBlock(\n",
       "          (attention): MultiHeadSelfAttention(\n",
       "            (dropout): Dropout(p=0.1, inplace=False)\n",
       "            (q_lin): Linear(in_features=768, out_features=768, bias=True)\n",
       "            (k_lin): Linear(in_features=768, out_features=768, bias=True)\n",
       "            (v_lin): Linear(in_features=768, out_features=768, bias=True)\n",
       "            (out_lin): Linear(in_features=768, out_features=768, bias=True)\n",
       "          )\n",
       "          (sa_layer_norm): LayerNorm((768,), eps=1e-12, elementwise_affine=True)\n",
       "          (ffn): FFN(\n",
       "            (dropout): Dropout(p=0.1, inplace=False)\n",
       "            (lin1): Linear(in_features=768, out_features=3072, bias=True)\n",
       "            (lin2): Linear(in_features=3072, out_features=768, bias=True)\n",
       "          )\n",
       "          (output_layer_norm): LayerNorm((768,), eps=1e-12, elementwise_affine=True)\n",
       "        )\n",
       "        (2): TransformerBlock(\n",
       "          (attention): MultiHeadSelfAttention(\n",
       "            (dropout): Dropout(p=0.1, inplace=False)\n",
       "            (q_lin): Linear(in_features=768, out_features=768, bias=True)\n",
       "            (k_lin): Linear(in_features=768, out_features=768, bias=True)\n",
       "            (v_lin): Linear(in_features=768, out_features=768, bias=True)\n",
       "            (out_lin): Linear(in_features=768, out_features=768, bias=True)\n",
       "          )\n",
       "          (sa_layer_norm): LayerNorm((768,), eps=1e-12, elementwise_affine=True)\n",
       "          (ffn): FFN(\n",
       "            (dropout): Dropout(p=0.1, inplace=False)\n",
       "            (lin1): Linear(in_features=768, out_features=3072, bias=True)\n",
       "            (lin2): Linear(in_features=3072, out_features=768, bias=True)\n",
       "          )\n",
       "          (output_layer_norm): LayerNorm((768,), eps=1e-12, elementwise_affine=True)\n",
       "        )\n",
       "        (3): TransformerBlock(\n",
       "          (attention): MultiHeadSelfAttention(\n",
       "            (dropout): Dropout(p=0.1, inplace=False)\n",
       "            (q_lin): Linear(in_features=768, out_features=768, bias=True)\n",
       "            (k_lin): Linear(in_features=768, out_features=768, bias=True)\n",
       "            (v_lin): Linear(in_features=768, out_features=768, bias=True)\n",
       "            (out_lin): Linear(in_features=768, out_features=768, bias=True)\n",
       "          )\n",
       "          (sa_layer_norm): LayerNorm((768,), eps=1e-12, elementwise_affine=True)\n",
       "          (ffn): FFN(\n",
       "            (dropout): Dropout(p=0.1, inplace=False)\n",
       "            (lin1): Linear(in_features=768, out_features=3072, bias=True)\n",
       "            (lin2): Linear(in_features=3072, out_features=768, bias=True)\n",
       "          )\n",
       "          (output_layer_norm): LayerNorm((768,), eps=1e-12, elementwise_affine=True)\n",
       "        )\n",
       "        (4): TransformerBlock(\n",
       "          (attention): MultiHeadSelfAttention(\n",
       "            (dropout): Dropout(p=0.1, inplace=False)\n",
       "            (q_lin): Linear(in_features=768, out_features=768, bias=True)\n",
       "            (k_lin): Linear(in_features=768, out_features=768, bias=True)\n",
       "            (v_lin): Linear(in_features=768, out_features=768, bias=True)\n",
       "            (out_lin): Linear(in_features=768, out_features=768, bias=True)\n",
       "          )\n",
       "          (sa_layer_norm): LayerNorm((768,), eps=1e-12, elementwise_affine=True)\n",
       "          (ffn): FFN(\n",
       "            (dropout): Dropout(p=0.1, inplace=False)\n",
       "            (lin1): Linear(in_features=768, out_features=3072, bias=True)\n",
       "            (lin2): Linear(in_features=3072, out_features=768, bias=True)\n",
       "          )\n",
       "          (output_layer_norm): LayerNorm((768,), eps=1e-12, elementwise_affine=True)\n",
       "        )\n",
       "        (5): TransformerBlock(\n",
       "          (attention): MultiHeadSelfAttention(\n",
       "            (dropout): Dropout(p=0.1, inplace=False)\n",
       "            (q_lin): Linear(in_features=768, out_features=768, bias=True)\n",
       "            (k_lin): Linear(in_features=768, out_features=768, bias=True)\n",
       "            (v_lin): Linear(in_features=768, out_features=768, bias=True)\n",
       "            (out_lin): Linear(in_features=768, out_features=768, bias=True)\n",
       "          )\n",
       "          (sa_layer_norm): LayerNorm((768,), eps=1e-12, elementwise_affine=True)\n",
       "          (ffn): FFN(\n",
       "            (dropout): Dropout(p=0.1, inplace=False)\n",
       "            (lin1): Linear(in_features=768, out_features=3072, bias=True)\n",
       "            (lin2): Linear(in_features=3072, out_features=768, bias=True)\n",
       "          )\n",
       "          (output_layer_norm): LayerNorm((768,), eps=1e-12, elementwise_affine=True)\n",
       "        )\n",
       "      )\n",
       "    )\n",
       "  )\n",
       "  (pre_classifier): Linear(in_features=768, out_features=768, bias=True)\n",
       "  (classifier): Linear(in_features=768, out_features=2, bias=True)\n",
       "  (dropout): Dropout(p=0.2, inplace=False)\n",
       ")"
      ]
     },
     "execution_count": 9,
     "metadata": {},
     "output_type": "execute_result"
    }
   ],
   "source": [
    "model.to(device)\n",
    "model.eval()"
   ]
  },
  {
   "cell_type": "markdown",
   "id": "facial-junction",
   "metadata": {
    "papermill": {
     "duration": 0.018106,
     "end_time": "2021-05-22T11:07:42.641689",
     "exception": false,
     "start_time": "2021-05-22T11:07:42.623583",
     "status": "completed"
    },
    "tags": []
   },
   "source": [
    "### Function to predict output of a tweet"
   ]
  },
  {
   "cell_type": "code",
   "execution_count": 10,
   "id": "scheduled-kruger",
   "metadata": {
    "execution": {
     "iopub.execute_input": "2021-05-22T11:07:42.683688Z",
     "iopub.status.busy": "2021-05-22T11:07:42.682979Z",
     "iopub.status.idle": "2021-05-22T11:07:42.687515Z",
     "shell.execute_reply": "2021-05-22T11:07:42.688092Z",
     "shell.execute_reply.started": "2021-05-22T10:58:48.294504Z"
    },
    "papermill": {
     "duration": 0.028706,
     "end_time": "2021-05-22T11:07:42.688245",
     "exception": false,
     "start_time": "2021-05-22T11:07:42.659539",
     "status": "completed"
    },
    "tags": []
   },
   "outputs": [],
   "source": [
    "def get_sent_pred(input_str,device=device):\n",
    "    tok = tokenizer(input_str, return_tensors=\"pt\", truncation=True, padding=True)\n",
    "    tok.to(device)\n",
    "    with torch.no_grad():\n",
    "        pred = model(**tok)\n",
    "    return pred['logits'].argmax(-1).item()"
   ]
  },
  {
   "cell_type": "markdown",
   "id": "sustainable-median",
   "metadata": {
    "papermill": {
     "duration": 0.017754,
     "end_time": "2021-05-22T11:07:42.723762",
     "exception": false,
     "start_time": "2021-05-22T11:07:42.706008",
     "status": "completed"
    },
    "tags": []
   },
   "source": [
    "### Compute metrics"
   ]
  },
  {
   "cell_type": "code",
   "execution_count": 11,
   "id": "considered-departure",
   "metadata": {
    "execution": {
     "iopub.execute_input": "2021-05-22T11:07:42.766958Z",
     "iopub.status.busy": "2021-05-22T11:07:42.766084Z",
     "iopub.status.idle": "2021-05-22T11:07:42.770907Z",
     "shell.execute_reply": "2021-05-22T11:07:42.770350Z",
     "shell.execute_reply.started": "2021-05-22T10:58:48.301414Z"
    },
    "papermill": {
     "duration": 0.029245,
     "end_time": "2021-05-22T11:07:42.771047",
     "exception": false,
     "start_time": "2021-05-22T11:07:42.741802",
     "status": "completed"
    },
    "tags": []
   },
   "outputs": [],
   "source": [
    "def compute_metrics_test(y_true,y_pred):\n",
    "    precision, recall, f1, _ = precision_recall_fscore_support(y_true, y_pred, average='binary')\n",
    "    acc = accuracy_score(y_true, y_pred)\n",
    "    mcc = matthews_corrcoef(y_true, y_pred) \n",
    "    return {\n",
    "        'accuracy': acc,\n",
    "        'f1': f1,\n",
    "        'precision': precision,\n",
    "        'recall': recall,\n",
    "        'mcc': mcc\n",
    "}"
   ]
  },
  {
   "cell_type": "code",
   "execution_count": 12,
   "id": "iraqi-commodity",
   "metadata": {
    "execution": {
     "iopub.execute_input": "2021-05-22T11:07:42.814992Z",
     "iopub.status.busy": "2021-05-22T11:07:42.813930Z",
     "iopub.status.idle": "2021-05-22T11:10:40.498859Z",
     "shell.execute_reply": "2021-05-22T11:10:40.499672Z",
     "shell.execute_reply.started": "2021-05-22T10:58:48.316058Z"
    },
    "papermill": {
     "duration": 177.710532,
     "end_time": "2021-05-22T11:10:40.499969",
     "exception": false,
     "start_time": "2021-05-22T11:07:42.789437",
     "status": "completed"
    },
    "tags": []
   },
   "outputs": [
    {
     "name": "stdout",
     "output_type": "stream",
     "text": [
      "For HATE: the following results: \n",
      "\n",
      "accuracy: 0.8631232361241769\n",
      "f1: 0.7144259077526988\n",
      "precision: 0.8053097345132744\n",
      "recall: 0.6419753086419753\n",
      "mcc: 0.6328721067580543\n",
      "\n",
      "------------------------------------------\n",
      "\n",
      "\n",
      "For TRAIN: the following results: \n",
      "\n",
      "accuracy: 0.9056948364602357\n",
      "f1: 0.8009113214160533\n",
      "precision: 0.8785082660515187\n",
      "recall: 0.7359098228663447\n",
      "mcc: 0.7447360569604938\n",
      "\n",
      "------------------------------------------\n",
      "\n",
      "\n",
      "For RACISM: the following results: \n",
      "\n",
      "accuracy: 0.8164717844433147\n",
      "f1: 0.44716692189892804\n",
      "precision: 0.40331491712707185\n",
      "recall: 0.5017182130584192\n",
      "mcc: 0.3415970546665962\n",
      "\n",
      "------------------------------------------\n",
      "\n",
      "\n",
      "For SEXISM: the following results: \n",
      "\n",
      "accuracy: 0.7674581005586593\n",
      "f1: 0.4126984126984127\n",
      "precision: 0.5763546798029556\n",
      "recall: 0.32142857142857145\n",
      "mcc: 0.3007161675288282\n",
      "\n",
      "------------------------------------------\n",
      "\n",
      "\n"
     ]
    }
   ],
   "source": [
    "for data_type in test_data_tweets.keys():\n",
    "    print(f\"For {data_type.upper()}: the following results: \")\n",
    "    print(\"\")\n",
    "    metrics = compute_metrics_test(test_data_labels[data_type], [get_sent_pred(sent) for sent in test_data_tweets[data_type]])\n",
    "    for metric, val in metrics.items():\n",
    "        print(f\"{metric}: {val}\")\n",
    "    print(\"\")\n",
    "    print(\"------------------------------------------\")\n",
    "    print(\"\")\n",
    "    print(\"\")"
   ]
  }
 ],
 "metadata": {
  "kernelspec": {
   "display_name": "Python 3",
   "language": "python",
   "name": "python3"
  },
  "language_info": {
   "codemirror_mode": {
    "name": "ipython",
    "version": 3
   },
   "file_extension": ".py",
   "mimetype": "text/x-python",
   "name": "python",
   "nbconvert_exporter": "python",
   "pygments_lexer": "ipython3",
   "version": "3.7.10"
  },
  "papermill": {
   "default_parameters": {},
   "duration": 204.899471,
   "end_time": "2021-05-22T11:10:42.851265",
   "environment_variables": {},
   "exception": null,
   "input_path": "__notebook__.ipynb",
   "output_path": "__notebook__.ipynb",
   "parameters": {},
   "start_time": "2021-05-22T11:07:17.951794",
   "version": "2.3.3"
  }
 },
 "nbformat": 4,
 "nbformat_minor": 5
}
